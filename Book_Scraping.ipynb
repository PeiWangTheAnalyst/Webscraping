{
  "nbformat": 4,
  "nbformat_minor": 0,
  "metadata": {
    "colab": {
      "provenance": [],
      "authorship_tag": "ABX9TyPTGnbrG1AX6gSX6A05K2G2",
      "include_colab_link": true
    },
    "kernelspec": {
      "name": "python3",
      "display_name": "Python 3"
    },
    "language_info": {
      "name": "python"
    }
  },
  "cells": [
    {
      "cell_type": "markdown",
      "metadata": {
        "id": "view-in-github",
        "colab_type": "text"
      },
      "source": [
        "<a href=\"https://colab.research.google.com/github/PeiWangTheAnalyst/Webscraping/blob/main/Book_Scraping.ipynb\" target=\"_parent\"><img src=\"https://colab.research.google.com/assets/colab-badge.svg\" alt=\"Open In Colab\"/></a>"
      ]
    },
    {
      "cell_type": "code",
      "source": [
        "import requests\n",
        "import pandas as pd\n",
        "from bs4 import BeautifulSoup\n",
        "books = []\n",
        "for i in range (1,5):\n",
        "  url = f'https://books.toscrape.com/catalogue/page-{i}.html'\n",
        "  page = requests.get(url).content\n",
        "  soup = BeautifulSoup(page)\n",
        "  ol = soup.find('ol')\n",
        "  articles = ol.find_all('article',class_='product_pod')\n",
        "  for article in articles:\n",
        "    title = article.find('h3').text\n",
        "    price = article.find('p',class_='price_color').text\n",
        "    price = float(price[1:])\n",
        "    rating = article.find('p')\n",
        "    rating = rating['class'][1]\n",
        "    books.append([title,price,rating])\n"
      ],
      "metadata": {
        "id": "owaqdkNMqc1P"
      },
      "execution_count": 34,
      "outputs": []
    },
    {
      "cell_type": "code",
      "source": [
        "df = pd.DataFrame(books,columns = ['Title','Price','Rating'])"
      ],
      "metadata": {
        "id": "vTuiet9gszOo"
      },
      "execution_count": 35,
      "outputs": []
    },
    {
      "cell_type": "code",
      "source": [
        "df.to_csv('books.csv')"
      ],
      "metadata": {
        "id": "n5sOYY8ttODv"
      },
      "execution_count": 36,
      "outputs": []
    },
    {
      "cell_type": "code",
      "source": [],
      "metadata": {
        "id": "HRAE4EjutpWv"
      },
      "execution_count": null,
      "outputs": []
    }
  ]
}