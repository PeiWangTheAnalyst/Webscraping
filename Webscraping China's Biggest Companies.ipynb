{
 "cells": [
  {
   "cell_type": "code",
   "execution_count": 19,
   "id": "fa781e73",
   "metadata": {},
   "outputs": [],
   "source": [
    "import pandas as pd\n",
    "from bs4 import BeautifulSoup \n",
    "import requests"
   ]
  },
  {
   "cell_type": "code",
   "execution_count": 3,
   "id": "eed661c5",
   "metadata": {},
   "outputs": [],
   "source": [
    "url = \"https://en.wikipedia.org/wiki/List_of_largest_Chinese_companies\""
   ]
  },
  {
   "cell_type": "code",
   "execution_count": 5,
   "id": "fbbfc520",
   "metadata": {},
   "outputs": [],
   "source": [
    "page = requests.get(url)"
   ]
  },
  {
   "cell_type": "code",
   "execution_count": 6,
   "id": "d60313e7",
   "metadata": {},
   "outputs": [],
   "source": [
    "soup = BeautifulSoup(page.text,'html')"
   ]
  },
  {
   "cell_type": "code",
   "execution_count": 9,
   "id": "8d84dcdb",
   "metadata": {},
   "outputs": [],
   "source": [
    "table = soup.find_all('table')[0]"
   ]
  },
  {
   "cell_type": "code",
   "execution_count": 17,
   "id": "d9dd4847",
   "metadata": {},
   "outputs": [
    {
     "name": "stdout",
     "output_type": "stream",
     "text": [
      "['Rank', 'List Rank', 'Name', 'Headquarters', 'Revenue (US$ Million)', 'Profit (US$ Million)', 'Assets (US$ Million)', 'Employees', 'Industry', 'Ownership']\n"
     ]
    }
   ],
   "source": [
    "column_names = [column_name.text.strip() for column_name in table.find_all('th')]\n",
    "print(column_names)"
   ]
  },
  {
   "cell_type": "code",
   "execution_count": 47,
   "id": "3dd498af",
   "metadata": {},
   "outputs": [],
   "source": [
    "df = pd.DataFrame(columns = column_names)"
   ]
  },
  {
   "cell_type": "code",
   "execution_count": 48,
   "id": "f034ca8e",
   "metadata": {},
   "outputs": [],
   "source": [
    "column_data = table.find_all('tr')"
   ]
  },
  {
   "cell_type": "code",
   "execution_count": 50,
   "id": "b82ae023",
   "metadata": {},
   "outputs": [
    {
     "name": "stdout",
     "output_type": "stream",
     "text": [
      "   Rank List Rank                                       Name Headquarters  \\\n",
      "0     1         3            State Grid Corporation of China      Beijing   \n",
      "1     2         4       China National Petroleum Corporation      Beijing   \n",
      "2     3         5                                    Sinopec      Beijing   \n",
      "3     4         9       China State Construction Engineering      Beijing   \n",
      "4     5        22    Industrial and Commercial Bank of China      Beijing   \n",
      "5     7        24                    China Construction Bank      Beijing   \n",
      "6     5        25                          Ping An Insurance     Shenzhen   \n",
      "7     8        28                 Agricultural Bank of China      Beijing   \n",
      "8     9        31                                   Sinochem      Beijing   \n",
      "9    10        34      China Railway Engineering Corporation      Beijing   \n",
      "10   11        39     China Railway Construction Corporation      Beijing   \n",
      "11   12        40               China Life Insurance Company      Beijing   \n",
      "12   13        42                              Bank of China      Beijing   \n",
      "13   14        44                                      Baowu     Shanghai   \n",
      "14   15        46                                     JD.com      Beijing   \n",
      "15   16        55                              Alibaba Group     Hangzhou   \n",
      "16   17        57                               China Mobile      Beijing   \n",
      "17   18        58                            China Minmetals      Beijing   \n",
      "18   19        60  China Communications Construction Company      Beijing   \n",
      "19   20        65    China National Offshore Oil Corporation      Beijing   \n",
      "20   21        68                                 SAIC Motor     Shanghai   \n",
      "21   22        69                            Shandong Energy        Jinan   \n",
      "22   23        70                            China Resources     Shenzhen   \n",
      "23   24        75                               Hengli Group       Suzhou   \n",
      "24   25        76                   Amer International Group     Shenzhen   \n",
      "\n",
      "   Revenue (US$ Million) Profit (US$ Million) Assets (US$ Million)  Employees  \\\n",
      "0              460,616.9              7,137.8            735,429.9    871,145   \n",
      "1              411,692.9              9,637.5            660,007.6  1,090,345   \n",
      "2              401,313.5              8,316.1            380,674.7    542,286   \n",
      "3              293,712.4              4,443.8            378,351.8    368,327   \n",
      "4              209,000.4             54,003.1          5,536,969.3    434,089   \n",
      "5              200,434.0             46,898.9          4,762,831.0    375,531   \n",
      "6              199,629.4             15,753.9          1,596,641.4    355,982   \n",
      "7              181,411.7             37,390.8          4,576,306.3    455,174   \n",
      "8              172,260.3               -197.7            241,750.2    220,760   \n",
      "9              166,452.1              1,853.2            215,913.3    310,817   \n",
      "10             158,203.0              1,703.8            213,451.8    366,833   \n",
      "11             157,095.3              3,087.1            903,089.7    182,646   \n",
      "12             152,409.3             33,573.3          4,206,862.0    306,322   \n",
      "13             150,730.0              2,994.9            175,860.5    230,884   \n",
      "14             147,526.2               -551.8             78,164.2    385,357   \n",
      "15             132,935.7              9,700.5            267,466.9    254,941   \n",
      "16             131,913.4             14,628.9            337,922.8    451,331   \n",
      "17             131,800.4                616.8            158,043.5    193,965   \n",
      "18             130,664.1              1,397.3            353,172.3    220,519   \n",
      "19             126,920.1              9,183.4            209,374.5     80,957   \n",
      "20             120,900.2              3,803.4            144,349.5    146,145   \n",
      "21             120,012.3                173.7            118,292.0    243,124   \n",
      "22             119,601.2              4,544.0            318,179.7    362,706   \n",
      "23             113,536.0              2,374.5             48,073.2    121,430   \n",
      "24             112,049.2              2,010.7             33,632.6     22,398   \n",
      "\n",
      "                   Industry               Ownership  \n",
      "0   Electric power industry  State-owned enterprise  \n",
      "1        Petroleum industry  State-owned enterprise  \n",
      "2        Petroleum industry  State-owned enterprise  \n",
      "3              Construction  State-owned enterprise  \n",
      "4           Commercial bank  State-owned enterprise  \n",
      "5           Commercial bank  State-owned enterprise  \n",
      "6                 Insurance          Public company  \n",
      "7           Commercial bank  State-owned enterprise  \n",
      "8         Chemical industry  State-owned enterprise  \n",
      "9              Construction  State-owned enterprise  \n",
      "10             Construction  State-owned enterprise  \n",
      "11                Insurance  State-owned enterprise  \n",
      "12          Commercial bank  State-owned enterprise  \n",
      "13              Steelmaking  State-owned enterprise  \n",
      "14               E-commerce          Public company  \n",
      "15               E-commerce          Public company  \n",
      "16       Telecommunications  State-owned enterprise  \n",
      "17             Metalworking  State-owned enterprise  \n",
      "18             Construction  State-owned enterprise  \n",
      "19       Petroleum Industry  State-owned enterprise  \n",
      "20      Automotive industry  State-owned enterprise  \n",
      "21              Coal mining  State-owned enterprise  \n",
      "22             Conglomerate  State-owned enterprise  \n",
      "23         Textile industry  Privately held company  \n",
      "24             Metalworking  Privately held company  \n"
     ]
    }
   ],
   "source": [
    "for row in column_data[1:]:\n",
    "    row_data = row.find_all('td')\n",
    "    data = [data.text.strip() for data in row_data]\n",
    "    length = len(df)\n",
    "    df.loc[length] = data\n",
    "print(df)\n"
   ]
  },
  {
   "cell_type": "code",
   "execution_count": 54,
   "id": "fd662a7c",
   "metadata": {},
   "outputs": [],
   "source": [
    "df.to_csv(\"Chinas biggest.csv\",index=False)"
   ]
  }
 ],
 "metadata": {
  "kernelspec": {
   "display_name": "Python 3 (ipykernel)",
   "language": "python",
   "name": "python3"
  },
  "language_info": {
   "codemirror_mode": {
    "name": "ipython",
    "version": 3
   },
   "file_extension": ".py",
   "mimetype": "text/x-python",
   "name": "python",
   "nbconvert_exporter": "python",
   "pygments_lexer": "ipython3",
   "version": "3.9.0"
  }
 },
 "nbformat": 4,
 "nbformat_minor": 5
}
